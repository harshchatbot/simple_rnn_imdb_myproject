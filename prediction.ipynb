{
 "cells": [
  {
   "cell_type": "code",
   "execution_count": 41,
   "metadata": {},
   "outputs": [],
   "source": [
    "# Step 1: Import Libraries and Load the Model\n",
    "import numpy as np\n",
    "import tensorflow as tf\n",
    "from tensorflow.keras.datasets import imdb\n",
    "from tensorflow.keras.preprocessing import sequence\n",
    "from tensorflow.keras.models import load_model"
   ]
  },
  {
   "cell_type": "code",
   "execution_count": 42,
   "metadata": {},
   "outputs": [],
   "source": [
    "\n",
    "# Load the IMDB dataset word index\n",
    "word_index = imdb.get_word_index()\n",
    "reverse_word_index = {value: key for key, value in word_index.items()}"
   ]
  },
  {
   "cell_type": "code",
   "execution_count": 43,
   "metadata": {},
   "outputs": [
    {
     "name": "stderr",
     "output_type": "stream",
     "text": [
      "WARNING:absl:Compiled the loaded model, but the compiled metrics have yet to be built. `model.compile_metrics` will be empty until you train or evaluate the model.\n"
     ]
    },
    {
     "data": {
      "text/html": [
       "<pre style=\"white-space:pre;overflow-x:auto;line-height:normal;font-family:Menlo,'DejaVu Sans Mono',consolas,'Courier New',monospace\"><span style=\"font-weight: bold\">Model: \"sequential_4\"</span>\n",
       "</pre>\n"
      ],
      "text/plain": [
       "\u001b[1mModel: \"sequential_4\"\u001b[0m\n"
      ]
     },
     "metadata": {},
     "output_type": "display_data"
    },
    {
     "data": {
      "text/html": [
       "<pre style=\"white-space:pre;overflow-x:auto;line-height:normal;font-family:Menlo,'DejaVu Sans Mono',consolas,'Courier New',monospace\">┏━━━━━━━━━━━━━━━━━━━━━━━━━━━━━━━━━┳━━━━━━━━━━━━━━━━━━━━━━━━┳━━━━━━━━━━━━━━━┓\n",
       "┃<span style=\"font-weight: bold\"> Layer (type)                    </span>┃<span style=\"font-weight: bold\"> Output Shape           </span>┃<span style=\"font-weight: bold\">       Param # </span>┃\n",
       "┡━━━━━━━━━━━━━━━━━━━━━━━━━━━━━━━━━╇━━━━━━━━━━━━━━━━━━━━━━━━╇━━━━━━━━━━━━━━━┩\n",
       "│ embedding_4 (<span style=\"color: #0087ff; text-decoration-color: #0087ff\">Embedding</span>)         │ (<span style=\"color: #00af00; text-decoration-color: #00af00\">32</span>, <span style=\"color: #00af00; text-decoration-color: #00af00\">500</span>, <span style=\"color: #00af00; text-decoration-color: #00af00\">128</span>)         │     <span style=\"color: #00af00; text-decoration-color: #00af00\">1,280,000</span> │\n",
       "├─────────────────────────────────┼────────────────────────┼───────────────┤\n",
       "│ simple_rnn_4 (<span style=\"color: #0087ff; text-decoration-color: #0087ff\">SimpleRNN</span>)        │ (<span style=\"color: #00af00; text-decoration-color: #00af00\">32</span>, <span style=\"color: #00af00; text-decoration-color: #00af00\">128</span>)              │        <span style=\"color: #00af00; text-decoration-color: #00af00\">32,896</span> │\n",
       "├─────────────────────────────────┼────────────────────────┼───────────────┤\n",
       "│ dense_4 (<span style=\"color: #0087ff; text-decoration-color: #0087ff\">Dense</span>)                 │ (<span style=\"color: #00af00; text-decoration-color: #00af00\">32</span>, <span style=\"color: #00af00; text-decoration-color: #00af00\">1</span>)                │           <span style=\"color: #00af00; text-decoration-color: #00af00\">129</span> │\n",
       "└─────────────────────────────────┴────────────────────────┴───────────────┘\n",
       "</pre>\n"
      ],
      "text/plain": [
       "┏━━━━━━━━━━━━━━━━━━━━━━━━━━━━━━━━━┳━━━━━━━━━━━━━━━━━━━━━━━━┳━━━━━━━━━━━━━━━┓\n",
       "┃\u001b[1m \u001b[0m\u001b[1mLayer (type)                   \u001b[0m\u001b[1m \u001b[0m┃\u001b[1m \u001b[0m\u001b[1mOutput Shape          \u001b[0m\u001b[1m \u001b[0m┃\u001b[1m \u001b[0m\u001b[1m      Param #\u001b[0m\u001b[1m \u001b[0m┃\n",
       "┡━━━━━━━━━━━━━━━━━━━━━━━━━━━━━━━━━╇━━━━━━━━━━━━━━━━━━━━━━━━╇━━━━━━━━━━━━━━━┩\n",
       "│ embedding_4 (\u001b[38;5;33mEmbedding\u001b[0m)         │ (\u001b[38;5;34m32\u001b[0m, \u001b[38;5;34m500\u001b[0m, \u001b[38;5;34m128\u001b[0m)         │     \u001b[38;5;34m1,280,000\u001b[0m │\n",
       "├─────────────────────────────────┼────────────────────────┼───────────────┤\n",
       "│ simple_rnn_4 (\u001b[38;5;33mSimpleRNN\u001b[0m)        │ (\u001b[38;5;34m32\u001b[0m, \u001b[38;5;34m128\u001b[0m)              │        \u001b[38;5;34m32,896\u001b[0m │\n",
       "├─────────────────────────────────┼────────────────────────┼───────────────┤\n",
       "│ dense_4 (\u001b[38;5;33mDense\u001b[0m)                 │ (\u001b[38;5;34m32\u001b[0m, \u001b[38;5;34m1\u001b[0m)                │           \u001b[38;5;34m129\u001b[0m │\n",
       "└─────────────────────────────────┴────────────────────────┴───────────────┘\n"
      ]
     },
     "metadata": {},
     "output_type": "display_data"
    },
    {
     "data": {
      "text/html": [
       "<pre style=\"white-space:pre;overflow-x:auto;line-height:normal;font-family:Menlo,'DejaVu Sans Mono',consolas,'Courier New',monospace\"><span style=\"font-weight: bold\"> Total params: </span><span style=\"color: #00af00; text-decoration-color: #00af00\">1,313,027</span> (5.01 MB)\n",
       "</pre>\n"
      ],
      "text/plain": [
       "\u001b[1m Total params: \u001b[0m\u001b[38;5;34m1,313,027\u001b[0m (5.01 MB)\n"
      ]
     },
     "metadata": {},
     "output_type": "display_data"
    },
    {
     "data": {
      "text/html": [
       "<pre style=\"white-space:pre;overflow-x:auto;line-height:normal;font-family:Menlo,'DejaVu Sans Mono',consolas,'Courier New',monospace\"><span style=\"font-weight: bold\"> Trainable params: </span><span style=\"color: #00af00; text-decoration-color: #00af00\">1,313,025</span> (5.01 MB)\n",
       "</pre>\n"
      ],
      "text/plain": [
       "\u001b[1m Trainable params: \u001b[0m\u001b[38;5;34m1,313,025\u001b[0m (5.01 MB)\n"
      ]
     },
     "metadata": {},
     "output_type": "display_data"
    },
    {
     "data": {
      "text/html": [
       "<pre style=\"white-space:pre;overflow-x:auto;line-height:normal;font-family:Menlo,'DejaVu Sans Mono',consolas,'Courier New',monospace\"><span style=\"font-weight: bold\"> Non-trainable params: </span><span style=\"color: #00af00; text-decoration-color: #00af00\">0</span> (0.00 B)\n",
       "</pre>\n"
      ],
      "text/plain": [
       "\u001b[1m Non-trainable params: \u001b[0m\u001b[38;5;34m0\u001b[0m (0.00 B)\n"
      ]
     },
     "metadata": {},
     "output_type": "display_data"
    },
    {
     "data": {
      "text/html": [
       "<pre style=\"white-space:pre;overflow-x:auto;line-height:normal;font-family:Menlo,'DejaVu Sans Mono',consolas,'Courier New',monospace\"><span style=\"font-weight: bold\"> Optimizer params: </span><span style=\"color: #00af00; text-decoration-color: #00af00\">2</span> (12.00 B)\n",
       "</pre>\n"
      ],
      "text/plain": [
       "\u001b[1m Optimizer params: \u001b[0m\u001b[38;5;34m2\u001b[0m (12.00 B)\n"
      ]
     },
     "metadata": {},
     "output_type": "display_data"
    }
   ],
   "source": [
    "# Load the pre-trained model with ReLU activation\n",
    "model = load_model('simple_rnn_imdb.h5')\n",
    "model.summary()"
   ]
  },
  {
   "cell_type": "code",
   "execution_count": 44,
   "metadata": {},
   "outputs": [
    {
     "data": {
      "text/plain": [
       "[array([[ 0.5257024 ,  0.4714617 ,  0.5582015 , ..., -0.5042569 ,\n",
       "          0.49276206, -0.43583462],\n",
       "        [ 0.00558174, -0.00241756, -0.02511783, ..., -0.05315539,\n",
       "          0.03841705,  0.06073378],\n",
       "        [ 0.11863045,  0.07559798,  0.05771652, ..., -0.07656353,\n",
       "          0.03495325,  0.02183884],\n",
       "        ...,\n",
       "        [-0.05608044, -0.00096251, -0.10454656, ..., -0.02372826,\n",
       "          0.05601339,  0.04410956],\n",
       "        [-0.04512016,  0.04002471,  0.10924171, ..., -0.10922122,\n",
       "         -0.01984942, -0.06809788],\n",
       "        [-0.07955389,  0.05107886, -0.03452013, ..., -0.05061806,\n",
       "         -0.13530566, -0.03251232]], shape=(10000, 128), dtype=float32),\n",
       " array([[ 0.03436926,  0.00491046, -0.15884657, ...,  0.07926876,\n",
       "         -0.11596986,  0.0338993 ],\n",
       "        [-0.03710716, -0.04083365,  0.03328192, ...,  0.08610041,\n",
       "          0.16564845, -0.00541826],\n",
       "        [ 0.08805429, -0.20313878,  0.05302399, ...,  0.13401955,\n",
       "         -0.02841602, -0.178346  ],\n",
       "        ...,\n",
       "        [ 0.0702146 ,  0.04271138,  0.01457226, ..., -0.10217641,\n",
       "         -0.07573425,  0.13529786],\n",
       "        [ 0.0548173 ,  0.01357948,  0.0287634 , ...,  0.06615967,\n",
       "         -0.13692623,  0.02213565],\n",
       "        [ 0.05904131,  0.18094754, -0.04934699, ..., -0.11116257,\n",
       "         -0.10913569,  0.15034243]], shape=(128, 128), dtype=float32),\n",
       " array([[ 0.10092136,  0.04098769,  0.01544977, ...,  0.104328  ,\n",
       "          0.1233197 , -0.01366205],\n",
       "        [-0.02734292, -0.32979771,  0.06970946, ...,  0.07145786,\n",
       "         -0.00044627, -0.12820889],\n",
       "        [-0.14213957,  0.08943751, -0.08074757, ...,  0.02582262,\n",
       "          0.02277189,  0.18122643],\n",
       "        ...,\n",
       "        [-0.02720288,  0.11714753,  0.0214763 , ...,  0.13930961,\n",
       "         -0.02278356,  0.20119004],\n",
       "        [ 0.04639655,  0.03179345, -0.07939034, ..., -0.02370141,\n",
       "          0.12541437,  0.0915449 ],\n",
       "        [-0.12460154,  0.06758565,  0.0383902 , ..., -0.01063107,\n",
       "          0.05793159, -0.00761837]], shape=(128, 128), dtype=float32),\n",
       " array([-0.03976803, -0.05999278,  0.02484846, -0.01950778, -0.06417097,\n",
       "        -0.01318388, -0.02185123,  0.05561819, -0.00016369, -0.00815838,\n",
       "        -0.01392889, -0.01556394, -0.0063262 , -0.05040448, -0.00520106,\n",
       "        -0.03325753, -0.03784513, -0.00183324, -0.0008159 , -0.02238366,\n",
       "        -0.01281057, -0.02767826, -0.02694719, -0.02765353, -0.05396763,\n",
       "         0.01725323,  0.03967424,  0.05281765, -0.0571932 , -0.0127908 ,\n",
       "        -0.0167718 , -0.04689213,  0.01502551, -0.02399237, -0.05532615,\n",
       "         0.02194644, -0.02477172, -0.02020616, -0.01439662, -0.02774474,\n",
       "         0.01234288,  0.01947057, -0.02650023, -0.03688263, -0.02468384,\n",
       "        -0.049898  ,  0.0415966 , -0.00843326, -0.02555783, -0.03381662,\n",
       "         0.01788511,  0.0141141 , -0.12146267, -0.00833809,  0.02383785,\n",
       "        -0.0694808 ,  0.01078031,  0.03448093,  0.00917054, -0.00760825,\n",
       "         0.0564322 , -0.00842479,  0.03080279, -0.00162798, -0.00700168,\n",
       "        -0.04212056, -0.01153184, -0.04231468,  0.00124683,  0.03892921,\n",
       "        -0.05760276, -0.02039629, -0.01929713, -0.01065869, -0.03392154,\n",
       "        -0.02662291, -0.04257958, -0.01994444,  0.00959422, -0.03757377,\n",
       "        -0.04973303, -0.07765626, -0.03451308, -0.03669462, -0.0062987 ,\n",
       "         0.02969099, -0.01958233,  0.0376684 , -0.01169063, -0.00740553,\n",
       "        -0.01949052,  0.02978439, -0.0118972 , -0.03323717,  0.00396132,\n",
       "         0.04088086, -0.0245385 , -0.01466402, -0.03558001, -0.02387662,\n",
       "         0.00817648,  0.03718667, -0.03928773, -0.026475  , -0.04543161,\n",
       "        -0.023957  ,  0.02463029, -0.03060464, -0.01020756,  0.00452864,\n",
       "        -0.0305673 ,  0.02178996, -0.03125927, -0.03261096, -0.01146808,\n",
       "        -0.01548577, -0.01126477, -0.00126016, -0.01499041, -0.02578868,\n",
       "        -0.00536837,  0.03113787,  0.02919826, -0.01211692, -0.01189242,\n",
       "        -0.04931511,  0.03279778, -0.00641791], dtype=float32),\n",
       " array([[-0.06822744],\n",
       "        [-0.10477244],\n",
       "        [-0.11120645],\n",
       "        [ 0.2195952 ],\n",
       "        [-0.21694604],\n",
       "        [-0.05951613],\n",
       "        [ 0.07132496],\n",
       "        [-0.07061468],\n",
       "        [ 0.2300401 ],\n",
       "        [-0.19807748],\n",
       "        [-0.26624823],\n",
       "        [ 0.09469518],\n",
       "        [-0.2031982 ],\n",
       "        [ 0.09402415],\n",
       "        [-0.01042288],\n",
       "        [-0.04025772],\n",
       "        [-0.16648267],\n",
       "        [-0.08017586],\n",
       "        [ 0.17498873],\n",
       "        [ 0.08164714],\n",
       "        [ 0.20187497],\n",
       "        [ 0.14447121],\n",
       "        [ 0.03024992],\n",
       "        [-0.00622982],\n",
       "        [ 0.00572001],\n",
       "        [ 0.12186004],\n",
       "        [-0.0775042 ],\n",
       "        [ 0.06756453],\n",
       "        [-0.04266617],\n",
       "        [ 0.19820945],\n",
       "        [ 0.03570432],\n",
       "        [-0.2010716 ],\n",
       "        [-0.01435919],\n",
       "        [ 0.05756998],\n",
       "        [ 0.02912962],\n",
       "        [ 0.15326843],\n",
       "        [ 0.08418413],\n",
       "        [ 0.04232067],\n",
       "        [-0.02324935],\n",
       "        [-0.036064  ],\n",
       "        [ 0.13710117],\n",
       "        [ 0.14009982],\n",
       "        [-0.09771146],\n",
       "        [ 0.13971236],\n",
       "        [-0.13003975],\n",
       "        [-0.01632829],\n",
       "        [ 0.08203243],\n",
       "        [-0.14852032],\n",
       "        [ 0.15911704],\n",
       "        [ 0.22561863],\n",
       "        [-0.07507738],\n",
       "        [-0.2318457 ],\n",
       "        [-0.17411953],\n",
       "        [-0.05577389],\n",
       "        [-0.15713234],\n",
       "        [ 0.14297764],\n",
       "        [-0.07325704],\n",
       "        [ 0.00458038],\n",
       "        [ 0.01379612],\n",
       "        [-0.12158482],\n",
       "        [-0.17952764],\n",
       "        [ 0.24558613],\n",
       "        [-0.2044599 ],\n",
       "        [ 0.08329935],\n",
       "        [-0.15297799],\n",
       "        [ 0.02144799],\n",
       "        [ 0.14135142],\n",
       "        [ 0.18958661],\n",
       "        [-0.06331789],\n",
       "        [ 0.00257201],\n",
       "        [-0.4250575 ],\n",
       "        [ 0.11196575],\n",
       "        [ 0.09476531],\n",
       "        [-0.03932011],\n",
       "        [-0.25187784],\n",
       "        [ 0.21695447],\n",
       "        [ 0.328693  ],\n",
       "        [-0.09803542],\n",
       "        [ 0.14776832],\n",
       "        [-0.18399757],\n",
       "        [ 0.08401196],\n",
       "        [ 0.27622968],\n",
       "        [ 0.04547647],\n",
       "        [ 0.07334542],\n",
       "        [-0.19555943],\n",
       "        [-0.04973824],\n",
       "        [ 0.16300195],\n",
       "        [-0.06363636],\n",
       "        [-0.15110433],\n",
       "        [-0.20150259],\n",
       "        [-0.1450819 ],\n",
       "        [-0.13768715],\n",
       "        [ 0.1912439 ],\n",
       "        [ 0.11519413],\n",
       "        [-0.0702986 ],\n",
       "        [ 0.01816696],\n",
       "        [ 0.41485548],\n",
       "        [-0.0141311 ],\n",
       "        [-0.19012363],\n",
       "        [ 0.04187515],\n",
       "        [-0.08336118],\n",
       "        [ 0.11989874],\n",
       "        [ 0.04694496],\n",
       "        [-0.11223733],\n",
       "        [ 0.10785722],\n",
       "        [ 0.079859  ],\n",
       "        [-0.12907581],\n",
       "        [-0.12541749],\n",
       "        [ 0.10330328],\n",
       "        [ 0.16365108],\n",
       "        [-0.1809196 ],\n",
       "        [-0.19076766],\n",
       "        [ 0.01219612],\n",
       "        [ 0.08045549],\n",
       "        [ 0.01406487],\n",
       "        [ 0.18968071],\n",
       "        [ 0.16968617],\n",
       "        [-0.0714676 ],\n",
       "        [ 0.23863062],\n",
       "        [-0.13852526],\n",
       "        [-0.11616757],\n",
       "        [-0.2260765 ],\n",
       "        [ 0.00827757],\n",
       "        [-0.20737404],\n",
       "        [-0.112821  ],\n",
       "        [-0.15277883],\n",
       "        [-0.18068954],\n",
       "        [-0.20400833]], dtype=float32),\n",
       " array([0.5570984], dtype=float32)]"
      ]
     },
     "execution_count": 44,
     "metadata": {},
     "output_type": "execute_result"
    }
   ],
   "source": [
    "model.get_weights()"
   ]
  },
  {
   "cell_type": "code",
   "execution_count": 45,
   "metadata": {},
   "outputs": [],
   "source": [
    "# Step 2: Helper Functions\n",
    "# Function to decode reviews\n",
    "def decode_review(encoded_review):\n",
    "    return ' '.join([reverse_word_index.get(i - 3, '?') for i in encoded_review])\n",
    "\n",
    "# Function to preprocess user input\n",
    "def preprocess_text(text):\n",
    "    words = text.lower().split()\n",
    "    encoded_review = [word_index.get(word, 2) + 3 for word in words]\n",
    "    padded_review = sequence.pad_sequences([encoded_review], maxlen=500)\n",
    "    return padded_review"
   ]
  },
  {
   "cell_type": "code",
   "execution_count": 46,
   "metadata": {},
   "outputs": [],
   "source": [
    "### Prediction  function\n",
    "\n",
    "def predict_sentiment(review):\n",
    "    preprocessed_input=preprocess_text(review)\n",
    "\n",
    "    prediction=model.predict(preprocessed_input)\n",
    "\n",
    "    sentiment = 'Positive' if prediction[0][0] > 0.5 else 'Negative'\n",
    "    \n",
    "    return sentiment, prediction[0][0]"
   ]
  },
  {
   "cell_type": "code",
   "execution_count": 48,
   "metadata": {},
   "outputs": [
    {
     "name": "stdout",
     "output_type": "stream",
     "text": [
      "\u001b[1m1/1\u001b[0m \u001b[32m━━━━━━━━━━━━━━━━━━━━\u001b[0m\u001b[37m\u001b[0m \u001b[1m0s\u001b[0m 30ms/step\n",
      "Review: I loved the movie, specially the second half. This movie is going to be a blockbuster\n",
      "Sentiment: Positive\n",
      "Prediction Score: 0.5890263915061951\n"
     ]
    }
   ],
   "source": [
    "# Step 4: User Input and Prediction\n",
    "# Example review for prediction\n",
    "example_review = \"This movie was fantastic! The acting was great and the plot was thrilling.\"\n",
    "example_review2=\"The movie was very slow paced, acting was ok ok and plot was predictable\"\n",
    "example_review3=\"I loved the movie, specially the second half. This movie is going to be a blockbuster\"\n",
    "sentiment,score=predict_sentiment(example_review3)\n",
    "\n",
    "print(f'Review: {example_review3}')\n",
    "print(f'Sentiment: {sentiment}')\n",
    "print(f'Prediction Score: {score}')"
   ]
  },
  {
   "cell_type": "code",
   "execution_count": null,
   "metadata": {},
   "outputs": [],
   "source": []
  }
 ],
 "metadata": {
  "kernelspec": {
   "display_name": "venv",
   "language": "python",
   "name": "python3"
  },
  "language_info": {
   "codemirror_mode": {
    "name": "ipython",
    "version": 3
   },
   "file_extension": ".py",
   "mimetype": "text/x-python",
   "name": "python",
   "nbconvert_exporter": "python",
   "pygments_lexer": "ipython3",
   "version": "3.10.19"
  }
 },
 "nbformat": 4,
 "nbformat_minor": 2
}
