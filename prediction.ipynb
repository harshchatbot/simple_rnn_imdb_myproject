{
 "cells": [
  {
   "cell_type": "code",
   "execution_count": 118,
   "metadata": {},
   "outputs": [],
   "source": [
    "# Step 1: Import Libraries and Load the Model\n",
    "import numpy as np\n",
    "import tensorflow as tf\n",
    "from tensorflow.keras.datasets import imdb\n",
    "from tensorflow.keras.preprocessing import sequence\n",
    "from tensorflow.keras.models import load_model"
   ]
  },
  {
   "cell_type": "code",
   "execution_count": 119,
   "metadata": {},
   "outputs": [],
   "source": [
    "\n",
    "# Load the IMDB dataset word index\n",
    "word_index = imdb.get_word_index()\n",
    "reverse_word_index = {value: key for key, value in word_index.items()}"
   ]
  },
  {
   "cell_type": "code",
   "execution_count": 120,
   "metadata": {},
   "outputs": [
    {
     "name": "stderr",
     "output_type": "stream",
     "text": [
      "WARNING:absl:Compiled the loaded model, but the compiled metrics have yet to be built. `model.compile_metrics` will be empty until you train or evaluate the model.\n"
     ]
    },
    {
     "data": {
      "text/html": [
       "<pre style=\"white-space:pre;overflow-x:auto;line-height:normal;font-family:Menlo,'DejaVu Sans Mono',consolas,'Courier New',monospace\"><span style=\"font-weight: bold\">Model: \"sequential_6\"</span>\n",
       "</pre>\n"
      ],
      "text/plain": [
       "\u001b[1mModel: \"sequential_6\"\u001b[0m\n"
      ]
     },
     "metadata": {},
     "output_type": "display_data"
    },
    {
     "data": {
      "text/html": [
       "<pre style=\"white-space:pre;overflow-x:auto;line-height:normal;font-family:Menlo,'DejaVu Sans Mono',consolas,'Courier New',monospace\">┏━━━━━━━━━━━━━━━━━━━━━━━━━━━━━━━━━┳━━━━━━━━━━━━━━━━━━━━━━━━┳━━━━━━━━━━━━━━━┓\n",
       "┃<span style=\"font-weight: bold\"> Layer (type)                    </span>┃<span style=\"font-weight: bold\"> Output Shape           </span>┃<span style=\"font-weight: bold\">       Param # </span>┃\n",
       "┡━━━━━━━━━━━━━━━━━━━━━━━━━━━━━━━━━╇━━━━━━━━━━━━━━━━━━━━━━━━╇━━━━━━━━━━━━━━━┩\n",
       "│ embedding_6 (<span style=\"color: #0087ff; text-decoration-color: #0087ff\">Embedding</span>)         │ (<span style=\"color: #00af00; text-decoration-color: #00af00\">32</span>, <span style=\"color: #00af00; text-decoration-color: #00af00\">500</span>, <span style=\"color: #00af00; text-decoration-color: #00af00\">128</span>)         │     <span style=\"color: #00af00; text-decoration-color: #00af00\">1,280,000</span> │\n",
       "├─────────────────────────────────┼────────────────────────┼───────────────┤\n",
       "│ simple_rnn_6 (<span style=\"color: #0087ff; text-decoration-color: #0087ff\">SimpleRNN</span>)        │ (<span style=\"color: #00af00; text-decoration-color: #00af00\">32</span>, <span style=\"color: #00af00; text-decoration-color: #00af00\">128</span>)              │        <span style=\"color: #00af00; text-decoration-color: #00af00\">32,896</span> │\n",
       "├─────────────────────────────────┼────────────────────────┼───────────────┤\n",
       "│ dense_6 (<span style=\"color: #0087ff; text-decoration-color: #0087ff\">Dense</span>)                 │ (<span style=\"color: #00af00; text-decoration-color: #00af00\">32</span>, <span style=\"color: #00af00; text-decoration-color: #00af00\">1</span>)                │           <span style=\"color: #00af00; text-decoration-color: #00af00\">129</span> │\n",
       "└─────────────────────────────────┴────────────────────────┴───────────────┘\n",
       "</pre>\n"
      ],
      "text/plain": [
       "┏━━━━━━━━━━━━━━━━━━━━━━━━━━━━━━━━━┳━━━━━━━━━━━━━━━━━━━━━━━━┳━━━━━━━━━━━━━━━┓\n",
       "┃\u001b[1m \u001b[0m\u001b[1mLayer (type)                   \u001b[0m\u001b[1m \u001b[0m┃\u001b[1m \u001b[0m\u001b[1mOutput Shape          \u001b[0m\u001b[1m \u001b[0m┃\u001b[1m \u001b[0m\u001b[1m      Param #\u001b[0m\u001b[1m \u001b[0m┃\n",
       "┡━━━━━━━━━━━━━━━━━━━━━━━━━━━━━━━━━╇━━━━━━━━━━━━━━━━━━━━━━━━╇━━━━━━━━━━━━━━━┩\n",
       "│ embedding_6 (\u001b[38;5;33mEmbedding\u001b[0m)         │ (\u001b[38;5;34m32\u001b[0m, \u001b[38;5;34m500\u001b[0m, \u001b[38;5;34m128\u001b[0m)         │     \u001b[38;5;34m1,280,000\u001b[0m │\n",
       "├─────────────────────────────────┼────────────────────────┼───────────────┤\n",
       "│ simple_rnn_6 (\u001b[38;5;33mSimpleRNN\u001b[0m)        │ (\u001b[38;5;34m32\u001b[0m, \u001b[38;5;34m128\u001b[0m)              │        \u001b[38;5;34m32,896\u001b[0m │\n",
       "├─────────────────────────────────┼────────────────────────┼───────────────┤\n",
       "│ dense_6 (\u001b[38;5;33mDense\u001b[0m)                 │ (\u001b[38;5;34m32\u001b[0m, \u001b[38;5;34m1\u001b[0m)                │           \u001b[38;5;34m129\u001b[0m │\n",
       "└─────────────────────────────────┴────────────────────────┴───────────────┘\n"
      ]
     },
     "metadata": {},
     "output_type": "display_data"
    },
    {
     "data": {
      "text/html": [
       "<pre style=\"white-space:pre;overflow-x:auto;line-height:normal;font-family:Menlo,'DejaVu Sans Mono',consolas,'Courier New',monospace\"><span style=\"font-weight: bold\"> Total params: </span><span style=\"color: #00af00; text-decoration-color: #00af00\">1,313,027</span> (5.01 MB)\n",
       "</pre>\n"
      ],
      "text/plain": [
       "\u001b[1m Total params: \u001b[0m\u001b[38;5;34m1,313,027\u001b[0m (5.01 MB)\n"
      ]
     },
     "metadata": {},
     "output_type": "display_data"
    },
    {
     "data": {
      "text/html": [
       "<pre style=\"white-space:pre;overflow-x:auto;line-height:normal;font-family:Menlo,'DejaVu Sans Mono',consolas,'Courier New',monospace\"><span style=\"font-weight: bold\"> Trainable params: </span><span style=\"color: #00af00; text-decoration-color: #00af00\">1,313,025</span> (5.01 MB)\n",
       "</pre>\n"
      ],
      "text/plain": [
       "\u001b[1m Trainable params: \u001b[0m\u001b[38;5;34m1,313,025\u001b[0m (5.01 MB)\n"
      ]
     },
     "metadata": {},
     "output_type": "display_data"
    },
    {
     "data": {
      "text/html": [
       "<pre style=\"white-space:pre;overflow-x:auto;line-height:normal;font-family:Menlo,'DejaVu Sans Mono',consolas,'Courier New',monospace\"><span style=\"font-weight: bold\"> Non-trainable params: </span><span style=\"color: #00af00; text-decoration-color: #00af00\">0</span> (0.00 B)\n",
       "</pre>\n"
      ],
      "text/plain": [
       "\u001b[1m Non-trainable params: \u001b[0m\u001b[38;5;34m0\u001b[0m (0.00 B)\n"
      ]
     },
     "metadata": {},
     "output_type": "display_data"
    },
    {
     "data": {
      "text/html": [
       "<pre style=\"white-space:pre;overflow-x:auto;line-height:normal;font-family:Menlo,'DejaVu Sans Mono',consolas,'Courier New',monospace\"><span style=\"font-weight: bold\"> Optimizer params: </span><span style=\"color: #00af00; text-decoration-color: #00af00\">2</span> (12.00 B)\n",
       "</pre>\n"
      ],
      "text/plain": [
       "\u001b[1m Optimizer params: \u001b[0m\u001b[38;5;34m2\u001b[0m (12.00 B)\n"
      ]
     },
     "metadata": {},
     "output_type": "display_data"
    }
   ],
   "source": [
    "# Load the pre-trained model with ReLU activation\n",
    "model = load_model('simple_rnn_imdb.h5')\n",
    "model.summary()"
   ]
  },
  {
   "cell_type": "code",
   "execution_count": 121,
   "metadata": {},
   "outputs": [
    {
     "data": {
      "text/plain": [
       "[array([[ 1.6191548e-01,  6.5234609e-02, -5.6387369e-02, ...,\n",
       "          1.2656720e-02,  1.1134165e-01, -3.9240760e-01],\n",
       "        [ 3.2465175e-02,  5.1237687e-02,  9.4474675e-03, ...,\n",
       "          2.1451125e-02,  4.5753475e-02,  2.7220678e-03],\n",
       "        [-7.6009464e-03,  2.0683335e-02,  1.1444409e-01, ...,\n",
       "          8.5735068e-02, -5.0016452e-02,  2.5518386e-02],\n",
       "        ...,\n",
       "        [-8.2861587e-02,  1.0300559e-01, -8.6347625e-02, ...,\n",
       "          1.6727142e-02, -8.7876745e-02,  2.4064740e-02],\n",
       "        [ 2.0563658e-02, -2.6217828e-02, -8.1472091e-02, ...,\n",
       "          2.5437819e-04,  4.6474196e-02, -4.9620852e-02],\n",
       "        [-1.1560239e-01,  3.4682471e-02, -5.1437806e-02, ...,\n",
       "         -1.5341470e-02, -7.9665311e-02, -3.9136805e-02]],\n",
       "       shape=(10000, 128), dtype=float32),\n",
       " array([[-0.19226338, -0.11577954, -0.03035847, ..., -0.1349837 ,\n",
       "          0.00967002, -0.0477198 ],\n",
       "        [-0.01654888,  0.00880086,  0.05826931, ..., -0.17048837,\n",
       "         -0.15665221,  0.01168861],\n",
       "        [-0.11512037, -0.03118679,  0.07605688, ..., -0.07942902,\n",
       "          0.08638993,  0.08759796],\n",
       "        ...,\n",
       "        [-0.05964922,  0.13559356, -0.05354485, ..., -0.05862171,\n",
       "         -0.12918398,  0.09378954],\n",
       "        [ 0.06372114, -0.12067913, -0.07792622, ..., -0.12063795,\n",
       "          0.10083167,  0.14121483],\n",
       "        [-0.1156107 , -0.08984496, -0.01649391, ..., -0.07282604,\n",
       "         -0.12763129,  0.00893419]], shape=(128, 128), dtype=float32),\n",
       " array([[-0.08272053,  0.1888007 , -0.08286944, ...,  0.0574824 ,\n",
       "         -0.07569379, -0.12651692],\n",
       "        [-0.21756043,  0.11677428,  0.12643214, ..., -0.14278096,\n",
       "          0.02308341,  0.07211783],\n",
       "        [-0.03728655, -0.0727594 , -0.01736806, ..., -0.02001048,\n",
       "          0.04340203,  0.11557843],\n",
       "        ...,\n",
       "        [-0.03843357, -0.08692177,  0.17823862, ..., -0.00438505,\n",
       "         -0.01724763, -0.13111793],\n",
       "        [ 0.05942773,  0.00426058, -0.00602568, ..., -0.18852043,\n",
       "         -0.06901597,  0.16479965],\n",
       "        [-0.20505428, -0.05372722,  0.05660342, ...,  0.04919199,\n",
       "          0.0154952 ,  0.09797114]], shape=(128, 128), dtype=float32),\n",
       " array([-3.3584837e-02, -1.8827271e-02,  9.0826703e-03,  1.9929698e-02,\n",
       "         6.3433372e-03, -5.0445858e-02,  6.5360893e-03, -3.3090722e-02,\n",
       "         3.9745655e-02,  3.5151146e-02, -4.3525798e-03,  2.9236201e-02,\n",
       "        -2.6765687e-02,  3.6046956e-02,  1.3374807e-02, -4.1615475e-02,\n",
       "        -1.0031392e-02,  1.9354476e-02,  3.1820234e-02,  2.4863431e-02,\n",
       "         2.5087100e-02,  3.4636434e-02,  3.0512929e-02,  1.1805103e-02,\n",
       "        -3.3818893e-03, -3.3640612e-02,  4.9057249e-03,  4.2470455e-02,\n",
       "        -3.5335157e-02, -1.2550659e-02,  2.6324356e-02, -2.8735848e-02,\n",
       "        -1.4376100e-02,  2.7336046e-02,  1.5667817e-02,  2.0906880e-02,\n",
       "        -5.7328859e-04, -2.2206290e-02, -2.4240397e-02,  1.4127732e-02,\n",
       "         3.5973892e-02, -3.4617532e-02, -2.8273534e-02,  3.7066542e-02,\n",
       "         1.8900340e-02,  3.5539731e-02, -2.1099418e-02, -3.8121935e-02,\n",
       "         3.1201774e-02,  3.7198108e-02, -2.1486370e-02,  9.5052253e-03,\n",
       "        -2.0096606e-02,  3.4317635e-02,  1.1159015e-02,  1.8621020e-03,\n",
       "        -2.6619239e-02,  6.3713309e-03,  7.1129046e-04, -2.8896984e-02,\n",
       "        -7.8209564e-03,  3.6352180e-02, -2.0031380e-02,  2.7784523e-02,\n",
       "        -1.4443339e-02, -1.3844150e-02,  1.7615000e-02,  3.3692703e-02,\n",
       "        -2.6276210e-02,  4.4635735e-03,  5.1460847e-02,  2.4877418e-02,\n",
       "        -2.2749858e-02,  1.7527467e-02,  4.8062816e-02, -2.5767038e-02,\n",
       "         5.6985943e-03, -1.7180476e-02,  8.3599258e-03, -2.8961003e-02,\n",
       "        -1.8862845e-02,  1.2740623e-02,  5.1212016e-02,  9.1475267e-03,\n",
       "         5.6816586e-03, -3.0830238e-02,  3.1718455e-02, -2.2444669e-02,\n",
       "         4.0122692e-02, -2.1433756e-02,  8.3272532e-03, -1.2185490e-02,\n",
       "         1.2939004e-02,  6.0693631e-03,  1.0266686e-02, -2.8616974e-02,\n",
       "        -4.4198215e-02, -7.9924939e-03, -1.1171496e-02, -3.5693884e-02,\n",
       "        -3.7434287e-02,  7.7689388e-03, -6.0255308e-05, -3.3870835e-02,\n",
       "        -3.7802711e-02,  3.4475792e-02, -2.7102510e-02, -3.1776134e-02,\n",
       "        -2.7286442e-02,  6.4842299e-02,  6.0970448e-03, -5.0238487e-03,\n",
       "        -2.7094439e-02, -4.0637337e-02, -3.6167752e-02,  2.2345632e-02,\n",
       "         3.6056355e-02, -1.5661435e-02, -8.6943051e-03, -5.0137542e-02,\n",
       "        -3.1205501e-02, -2.4466112e-02,  5.2132931e-02, -2.6739817e-02,\n",
       "        -2.3465259e-02, -2.2856301e-02, -4.3613752e-03,  3.0962469e-02],\n",
       "       dtype=float32),\n",
       " array([[ 0.19835037],\n",
       "        [-0.09903051],\n",
       "        [ 0.07235159],\n",
       "        [ 0.03263106],\n",
       "        [ 0.10361841],\n",
       "        [ 0.07232835],\n",
       "        [-0.1602337 ],\n",
       "        [ 0.33007455],\n",
       "        [-0.16193213],\n",
       "        [ 0.12924229],\n",
       "        [-0.12602362],\n",
       "        [ 0.18368788],\n",
       "        [ 0.2718877 ],\n",
       "        [-0.03998719],\n",
       "        [ 0.19554341],\n",
       "        [ 0.11231627],\n",
       "        [ 0.10955949],\n",
       "        [-0.02591416],\n",
       "        [-0.09540346],\n",
       "        [-0.16717374],\n",
       "        [-0.09125561],\n",
       "        [-0.09318881],\n",
       "        [ 0.23924059],\n",
       "        [ 0.01472921],\n",
       "        [-0.00538826],\n",
       "        [ 0.20190644],\n",
       "        [-0.07912958],\n",
       "        [-0.198302  ],\n",
       "        [ 0.06678219],\n",
       "        [ 0.05962101],\n",
       "        [-0.0952387 ],\n",
       "        [ 0.11342035],\n",
       "        [ 0.24521697],\n",
       "        [-0.05788594],\n",
       "        [ 0.10868216],\n",
       "        [ 0.03343869],\n",
       "        [ 0.13363582],\n",
       "        [ 0.20700519],\n",
       "        [-0.07622368],\n",
       "        [-0.1571435 ],\n",
       "        [ 0.08956133],\n",
       "        [ 0.2303394 ],\n",
       "        [ 0.2633423 ],\n",
       "        [-0.20908676],\n",
       "        [-0.19021197],\n",
       "        [-0.1807533 ],\n",
       "        [-0.15686123],\n",
       "        [ 0.0184242 ],\n",
       "        [ 0.04725422],\n",
       "        [ 0.02156778],\n",
       "        [ 0.11203524],\n",
       "        [ 0.23319979],\n",
       "        [ 0.04922767],\n",
       "        [ 0.13293356],\n",
       "        [ 0.29024026],\n",
       "        [-0.08186719],\n",
       "        [ 0.1248605 ],\n",
       "        [-0.3596658 ],\n",
       "        [-0.05552461],\n",
       "        [ 0.1748603 ],\n",
       "        [-0.08072104],\n",
       "        [-0.12885517],\n",
       "        [-0.04009037],\n",
       "        [-0.24841736],\n",
       "        [ 0.00377924],\n",
       "        [ 0.18029745],\n",
       "        [ 0.16284208],\n",
       "        [-0.19701353],\n",
       "        [-0.17206071],\n",
       "        [-0.12247427],\n",
       "        [ 0.27839792],\n",
       "        [-0.22953184],\n",
       "        [ 0.16710767],\n",
       "        [ 0.378338  ],\n",
       "        [ 0.02522485],\n",
       "        [ 0.14086738],\n",
       "        [ 0.2753139 ],\n",
       "        [-0.11063968],\n",
       "        [ 0.06740452],\n",
       "        [ 0.05905866],\n",
       "        [ 0.18985683],\n",
       "        [-0.08433722],\n",
       "        [-0.22816984],\n",
       "        [ 0.0785081 ],\n",
       "        [ 0.2234859 ],\n",
       "        [ 0.08577986],\n",
       "        [-0.10747761],\n",
       "        [ 0.09387304],\n",
       "        [-0.14096977],\n",
       "        [ 0.24114619],\n",
       "        [ 0.13324898],\n",
       "        [ 0.23173873],\n",
       "        [-0.03647538],\n",
       "        [ 0.2991175 ],\n",
       "        [ 0.16183221],\n",
       "        [ 0.13624445],\n",
       "        [ 0.004553  ],\n",
       "        [ 0.22848734],\n",
       "        [ 0.11431523],\n",
       "        [-0.01627627],\n",
       "        [ 0.5237051 ],\n",
       "        [-0.5911596 ],\n",
       "        [ 0.14252508],\n",
       "        [ 0.17969787],\n",
       "        [ 0.13806434],\n",
       "        [ 0.02022307],\n",
       "        [ 0.22004506],\n",
       "        [-0.12557575],\n",
       "        [ 0.12806785],\n",
       "        [-0.01918639],\n",
       "        [ 0.28478616],\n",
       "        [ 0.13441136],\n",
       "        [ 0.04756138],\n",
       "        [ 0.21136305],\n",
       "        [ 0.0196937 ],\n",
       "        [-0.14338827],\n",
       "        [-0.14182468],\n",
       "        [-0.10104786],\n",
       "        [ 0.02444828],\n",
       "        [-0.15694319],\n",
       "        [ 0.17371921],\n",
       "        [-0.14559028],\n",
       "        [ 0.16313744],\n",
       "        [ 0.25999618],\n",
       "        [ 0.08718476],\n",
       "        [ 0.1644266 ],\n",
       "        [ 0.11396696],\n",
       "        [-0.18023427]], dtype=float32),\n",
       " array([0.253178], dtype=float32)]"
      ]
     },
     "execution_count": 121,
     "metadata": {},
     "output_type": "execute_result"
    }
   ],
   "source": [
    "model.get_weights()"
   ]
  },
  {
   "cell_type": "code",
   "execution_count": 122,
   "metadata": {},
   "outputs": [],
   "source": [
    "# Step 2: Helper Functions\n",
    "# Function to decode reviews\n",
    "def decode_review(encoded_review):\n",
    "    return ' '.join([reverse_word_index.get(i - 3, '?') for i in encoded_review])\n",
    "\n",
    "# Function to preprocess user input\n",
    "def preprocess_text(text):\n",
    "    words = text.lower().split()\n",
    "    encoded_review = [word_index.get(word, 2) + 3 for word in words]\n",
    "    padded_review = sequence.pad_sequences([encoded_review], maxlen=500)\n",
    "    return padded_review"
   ]
  },
  {
   "cell_type": "code",
   "execution_count": 123,
   "metadata": {},
   "outputs": [],
   "source": [
    "### Prediction  function\n",
    "\n",
    "def predict_sentiment(review):\n",
    "    preprocessed_input=preprocess_text(review)\n",
    "\n",
    "    prediction=model.predict(preprocessed_input)\n",
    "\n",
    "    sentiment = 'Positive' if prediction[0][0] > 0.5 else 'Negative'\n",
    "    \n",
    "    return sentiment, prediction[0][0]"
   ]
  },
  {
   "cell_type": "code",
   "execution_count": 126,
   "metadata": {},
   "outputs": [
    {
     "name": "stdout",
     "output_type": "stream",
     "text": [
      "\u001b[1m1/1\u001b[0m \u001b[32m━━━━━━━━━━━━━━━━━━━━\u001b[0m\u001b[37m\u001b[0m \u001b[1m0s\u001b[0m 31ms/step\n",
      "Review: This movie was fantastic! The acting was great and the plot was thrilling.\n",
      "Sentiment: Positive\n",
      "Prediction Score: 0.5613824129104614\n"
     ]
    }
   ],
   "source": [
    "# Step 4: User Input and Prediction\n",
    "# Example review for prediction\n",
    "example_review = \"This movie was fantastic! The acting was great and the plot was thrilling.\"\n",
    "example_review2=\"The movie was very slow paced, acting was ok ok and plot was predictable\"\n",
    "example_review3=\"loved this movie\"\n",
    "sentiment,score=predict_sentiment(example_review)\n",
    "\n",
    "print(f'Review: {example_review}')\n",
    "print(f'Sentiment: {sentiment}')\n",
    "print(f'Prediction Score: {score}')"
   ]
  },
  {
   "cell_type": "code",
   "execution_count": null,
   "metadata": {},
   "outputs": [],
   "source": []
  }
 ],
 "metadata": {
  "kernelspec": {
   "display_name": "venv",
   "language": "python",
   "name": "python3"
  },
  "language_info": {
   "codemirror_mode": {
    "name": "ipython",
    "version": 3
   },
   "file_extension": ".py",
   "mimetype": "text/x-python",
   "name": "python",
   "nbconvert_exporter": "python",
   "pygments_lexer": "ipython3",
   "version": "3.10.19"
  }
 },
 "nbformat": 4,
 "nbformat_minor": 2
}
